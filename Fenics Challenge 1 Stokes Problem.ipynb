{
 "cells": [
  {
   "cell_type": "markdown",
   "metadata": {
    "collapsed": true,
    "deletable": true,
    "editable": true
   },
   "source": [
    "## Problem Statement:\n",
    "\n",
    "Solve:\n",
    "$$f = -\\Delta{u} + \\nabla{p} $$\n",
    "when:\n",
    "$$ u = \\nabla \\times sin(\\pi x y) \\ and \\ p = sin(2\\pi x) $$\n",
    "where $\\nabla \\times$ is defined as $(-\\frac{\\partial}{\\partial{y}}, \\frac{\\partial}{\\partial{x}})$\n",
    "\n",
    "to get f we derive from the Stokes probem given the method of manufactured solutions:\n",
    "$$ f = \\Delta(\\nabla \\times sin(\\pi x y)) + \\nabla{sin(2\\pi x)} $$\n",
    "\n",
    "same for boundary conditions."
   ]
  },
  {
   "cell_type": "code",
   "execution_count": null,
   "metadata": {
    "collapsed": true,
    "deletable": true,
    "editable": true
   },
   "outputs": [],
   "source": [
    "from dolfin import *\n",
    "import matplotlib.pyplot as plt\n",
    "import numpy as np\n",
    "fig_size = (24, 24)\n",
    "%matplotlib inline\n",
    "\n",
    "plt.rcParams[\"figure.figsize\"] = fig_size"
   ]
  },
  {
   "cell_type": "code",
   "execution_count": null,
   "metadata": {
    "collapsed": true,
    "deletable": true,
    "editable": true
   },
   "outputs": [],
   "source": [
    "def stokes_solver(h, u_deg, p_deg):\n",
    "\n",
    "    mesh = UnitSquareMesh(h, h)\n",
    "    \n",
    "    def right(x, on_boundary): return near(x[0], 1.)\n",
    "    \n",
    "    sub_domains = FacetFunction('size_t', mesh, 0)\n",
    "    DomainBoundary().mark(sub_domains, 1)\n",
    "    \n",
    "    outflow = AutoSubDomain(right)\n",
    "    outflow.mark(sub_domains, 2)\n",
    "    #p_e = Expression(\"sin(2*pi*x[0])\", degree=4, domain=mesh)\n",
    "    #u_e_ = Expression(\"sin(pi*x[0]*x[1])\", degree=4, domain=mesh)\n",
    "    x = SpatialCoordinate(mesh)\n",
    "    p_e = sin(2*pi*x[0])\n",
    "    u_e = sin(pi*x[0]*x[1])\n",
    "    u_e = curl(u_e) \n",
    "    f = -div(grad(u_e)) + grad(p_e)\n",
    "\n",
    "    ds_ = Measure('ds', domain=mesh, subdomain_data=sub_domains)\n",
    "\n",
    "    n = FacetNormal ( mesh )\n",
    "    # Define function spaces\n",
    "    P2 = VectorElement(\"Lagrange\", mesh.ufl_cell(), u_deg)\n",
    "    P1 = FiniteElement(\"Lagrange\", mesh.ufl_cell(), p_deg)\n",
    "    TH = P2 * P1\n",
    "    W = FunctionSpace(mesh, TH)\n",
    "\n",
    "    u_projected = project(u_e, FunctionSpace(mesh, VectorElement(\"Lagrange\", mesh.ufl_cell(), u_deg+3)))\n",
    "    p_projected = project(p_e, FunctionSpace(mesh, FiniteElement(\"Lagrange\", mesh.ufl_cell(), p_deg+3)))\n",
    "    u_bc = DirichletBC(W.sub(0), u_projected, sub_domains, 1)\n",
    "    #p_bc = DirichletBC(W.sub(1), p_projected, \"on_boundary\")\n",
    "\n",
    "\n",
    "    bcs = [u_bc]\n",
    "\n",
    "    # Define variational problem\n",
    "    (u, p) = TrialFunctions(W)\n",
    "    (v, q) = TestFunctions(W)\n",
    "    #f = Constant((0, 0))\n",
    "    a = (inner(grad(u), grad(v)) - div(v)*p + q*div(u))*dx \n",
    "    \n",
    "    n = Constant((1, 0))\n",
    "    g = p_e*n + grad(u_e)*n\n",
    "    L = inner(f, v)*dx + inner(g, v)*ds_(2)\n",
    "\n",
    "    # Compute solution\n",
    "    w = Function(W)\n",
    "    solve(a == L, w, bcs)\n",
    "\n",
    "    # Split the mixed solution using deepcopy\n",
    "    # (needed for further computation on coefficient vector)\n",
    "    (u, p) = w.split(True)\n",
    "    \n",
    "    E_u = errornorm(u_projected, u, norm_type='H1')\n",
    "    E_p = errornorm(p_projected, p, norm_type='L2')\n",
    "    return u, p, mesh, E_u, E_p"
   ]
  },
  {
   "cell_type": "markdown",
   "metadata": {
    "deletable": true,
    "editable": true
   },
   "source": [
    "## Compute the solutions and errors"
   ]
  },
  {
   "cell_type": "code",
   "execution_count": null,
   "metadata": {
    "collapsed": false,
    "deletable": true,
    "editable": true
   },
   "outputs": [],
   "source": [
    "hs = [5, 10, 40, 80]\n",
    "\n",
    "errors = []\n",
    "for u_deg, p_deg in ((2, 1), (1, 1)):\n",
    "    print u_deg, p_deg\n",
    "    Es = []\n",
    "    for kk, h in enumerate(hs):\n",
    "        u, p, mesh, E_u, E_p = stokes_solver(h, u_deg, p_deg)\n",
    "        if Es:\n",
    "            h = float(h)\n",
    "            E_u0, E_p0 = Es[-1]\n",
    "            rate_u = ln(E_u/E_u0)/ln(h/hs[kk-1])\n",
    "            rate_p = ln(E_p/E_p0)/ln(h/hs[kk-1])\n",
    "        else:\n",
    "            rate_u, rate_p = np.nan, np.nan\n",
    "        print E_u, '@', rate_u, E_p, '@', rate_p\n",
    "        Es.append((E_u, E_p))\n",
    "    errors.append(Es)\n",
    "\n",
    "errors = np.array(errors)"
   ]
  },
  {
   "cell_type": "markdown",
   "metadata": {
    "deletable": true,
    "editable": true
   },
   "source": [
    "## Plot Errors"
   ]
  },
  {
   "cell_type": "code",
   "execution_count": null,
   "metadata": {
    "collapsed": false,
    "deletable": true,
    "editable": true
   },
   "outputs": [],
   "source": [
    "fig, ax = plt.subplots(2, 2, figsize=(24, 24))\n",
    "ax = ax.flatten()\n",
    "for i, j, k  in zip(range(4), [0, 0, 1,1], [0,1,0,1]):\n",
    "    if i == 0:\n",
    "        ax[i].set_ylabel(r\"$P_2-P_1 \\ Elements \\ Error$\", fontsize=28)\n",
    "        ax[i].set_title(r\"$H^1 \\ Norm \\ - \\ Velocity$\", fontsize=28)\n",
    "    elif i == 1:\n",
    "        ax[i].set_title(r\"$L_2 \\ Norm \\ - \\ Pressure$\", fontsize=28)\n",
    "    elif i == 2:\n",
    "        ax[i].set_ylabel(r\"$P_1-P_1 \\ Elements \\ Error$\", fontsize=28)\n",
    "        ax[i].set_xlabel(r\"$Meshsize \\ h$\", fontsize=28)\n",
    "    elif i == 3:\n",
    "        ax[i].set_xlabel(r\"$Meshsize \\ h$\", fontsize=28)\n",
    "    a, b, = np.polyfit(np.log(hs), np.log(errors[j, :, k]), deg=1)\n",
    "    #print a, b\n",
    "    ax[i].loglog(hs, errors[j, :, k], c='black', linewidth=4)\n",
    "    ax[i].grid(which='both')\n",
    "    slope_str = \"Slope: %.1f\" % a\n",
    "    ax[i].annotate(slope_str, xycoords='axes fraction', xy=(0.6, 0.6), xytext=(0.7, 0.6), textcoords='axes fraction', fontsize=32)\n",
    "    \n",
    "    for tick in ax[i].xaxis.get_major_ticks():\n",
    "        tick.label.set_fontsize(24)\n",
    "    \n",
    "    for tick in ax[i].yaxis.get_major_ticks():\n",
    "        tick.label.set_fontsize(24)\n",
    "        \n",
    "fig.savefig(\"stokes_exercise.png\", bbox_extra_artists=None, bbox_inches='tight',dpi=72)"
   ]
  }
 ],
 "metadata": {
  "kernelspec": {
   "display_name": "Python 2",
   "language": "python",
   "name": "python2"
  },
  "language_info": {
   "codemirror_mode": {
    "name": "ipython",
    "version": 2
   },
   "file_extension": ".py",
   "mimetype": "text/x-python",
   "name": "python",
   "nbconvert_exporter": "python",
   "pygments_lexer": "ipython2",
   "version": "2.7.12"
  }
 },
 "nbformat": 4,
 "nbformat_minor": 2
}
