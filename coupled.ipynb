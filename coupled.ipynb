{
 "cells": [
  {
   "cell_type": "markdown",
   "metadata": {},
   "source": [
    "# Coupled multiscale problems: discretizations and preconditioning\n",
    "\n",
    "\n",
    "## Nordic Graduate Coarse on Computational Mathematical Modeling\n",
    "### Miroslav Kuchta (miroslav.kuchta@gmail.com)"
   ]
  },
  {
   "cell_type": "markdown",
   "metadata": {},
   "source": [
    "The following notebook contains set of exercises accopanying the lecture. Prerequisites for executing the code are working installations of [FEniCS](https://fenicsproject.org/download/), [cbc.block](https://bitbucket.org/fenics-apps/cbc.block) and [fenics_ii](https://github.com/MiroK/fenics_ii). In addition to the materials listed in ''preconditioning'' notebook I have used the following in preparing the lecture\n",
    "\n",
    "- [Finite Elements: Theory, Fast Solvers, and Applications in Solid Mechanics](https://books.google.no/books/about/Finite_Elements.html?id=DXin1jNR4ioC&redir_esc=y)\n",
    "- [A Note on Preconditioning for Indefinite Linear Systems](http://epubs.siam.org/doi/abs/10.1137/S1064827599355153?journalCode=sjoce3)\n",
    "- [A Preconditioned Iterative Method for Saddlepoint Problems](http://epubs.siam.org/doi/abs/10.1137/0613054)\n",
    "- [The finite element method with Lagrangian multipliers](https://link.springer.com/article/10.1007/BF01436561)\n",
    "- [On The Coupling of 1d and 3d Diffusion-Reaction Equations: Application to Tissue Perfusion Problems](http://www.worldscientific.com/doi/abs/10.1142/S0218202508003108)\n",
    "- [Natural Preconditioning and Iterative Methods for Saddle Point Systems](http://epubs.siam.org/doi/abs/10.1137/130934921)"
   ]
  },
  {
   "cell_type": "markdown",
   "metadata": {},
   "source": [
    "The lecture is divided into two parts; the first being dedicated to saddle point / coupled problems in general, the second part then discusses coupled multiscale problems."
   ]
  },
  {
   "cell_type": "code",
   "execution_count": null,
   "metadata": {
    "collapsed": false
   },
   "outputs": [],
   "source": [
    "from dolfin import Expression\n",
    "from sympy.printing import ccode\n",
    "from sympy import symbols\n",
    "\n",
    "\n",
    "def expr_body(expr, **kwargs):\n",
    "    if not hasattr(expr, '__len__'):\n",
    "        # Defined in terms of some coordinates\n",
    "        xyz = set(symbols('x[0], x[1], x[2]'))\n",
    "        xyz_used = xyz & expr.free_symbols\n",
    "        assert xyz_used <= xyz\n",
    "        # Expression params which need default values\n",
    "        params = (expr.free_symbols - xyz_used) & set(kwargs.keys())\n",
    "        # Body\n",
    "        expr = ccode(expr).replace('M_PI', 'pi')\n",
    "        # Default to zero\n",
    "        kwargs.update(dict((str(p), 0.) for p in params))\n",
    "        # Convert\n",
    "        return expr\n",
    "    # Vectors, Matrices as iterables of expressions\n",
    "    else:\n",
    "        return [expr_body(e, **kwargs) for e in expr]\n",
    "    \n",
    "    \n",
    "def as_expression(expr, degree=4, **kwargs): \n",
    "    '''Turns sympy expressions to Dolfin expressions.'''\n",
    "    return Expression(expr_body(expr), degree=degree, **kwargs)"
   ]
  },
  {
   "cell_type": "markdown",
   "metadata": {},
   "source": [
    "## Saddle point systems\n",
    "\n",
    "In the lecture you were told that $P_0-P_1$ element is inf-sup stable for certain formulation of mixed Poisson problem.\n",
    "Let's verify that statement experimentally."
   ]
  },
  {
   "cell_type": "code",
   "execution_count": null,
   "metadata": {
    "collapsed": false
   },
   "outputs": [],
   "source": [
    "from dolfin import *\n",
    "\n",
    "def mixed_poisson(n, f):\n",
    "    '''\n",
    "    Solve \n",
    "    \n",
    "        div(grad u) = -f in [0, 1]^2\n",
    "                  u = 0  on boundary\n",
    "              \n",
    "    as\n",
    "    \n",
    "        sigma - grad(u) = 0    in [0, 1]^2 \n",
    "        div(sigma)      = -f\n",
    "                       u = 0 on boundary\n",
    "                  \n",
    "    by direct solver.\n",
    "    '''\n",
    "    mesh = UnitSquareMesh(n, n)\n",
    "    \n",
    "    V = VectorElement('Discontinuous Lagrange', mesh.ufl_cell(), 0)\n",
    "    Q = FiniteElement('Lagrange', mesh.ufl_cell(), 1)\n",
    "    W = FunctionSpace(mesh, MixedElement([V, Q]))\n",
    "    \n",
    "    sigma, u = TrialFunctions(W)\n",
    "    tau, v = TestFunctions(W)\n",
    "    \n",
    "    a = inner(sigma, tau)*dx - inner(grad(u), tau)*dx - inner(grad(v), sigma)*dx\n",
    "    L = -inner(f, v)*dx\n",
    "    bc = DirichletBC(W.sub(1), Constant(0), 'on_boundary')\n",
    "    \n",
    "    wh = Function(W)\n",
    "    solve(a == L, wh, bc)\n",
    "    \n",
    "    sigmah, uh = wh.split(deepcopy=True)\n",
    "    \n",
    "    return mesh.hmin(), sigmah, uh"
   ]
  },
  {
   "cell_type": "code",
   "execution_count": null,
   "metadata": {
    "collapsed": false
   },
   "outputs": [],
   "source": [
    "# Setup for Mixed Poisson, direct, to check stability by lookin at error convergence\n",
    "import sympy as sp\n",
    "\n",
    "x, y = sp.symbols('x[0] x[1]')\n",
    "\n",
    "u = x*(1-x)*y*(1-y)*sp.sin(sp.pi*(x+y))\n",
    "f = -(u.diff(x, 2) + u.diff(y, 2))\n",
    "sigma = (u.diff(x, 1), u.diff(y, 1))\n",
    "\n",
    "(u, f, sigma) = map(as_expression, (u, f, sigma))\n",
    "\n",
    "hs, sigmas, us = [], [], []\n",
    "for n in (2, 4, 8, 16, 32, 64):\n",
    "    h, sigmah, uh = mixed_poisson(n, f)\n",
    "    es, eu = errornorm(sigma, sigmah, 'L2'), errornorm(u, uh, 'H10')\n",
    "    \n",
    "    if hs:\n",
    "        rates = ln(es/sigmas[-1])/ln(h/hs[-1])\n",
    "        rateu = ln(eu/us[-1])/ln(h/hs[-1])\n",
    "    else:\n",
    "        rates, rateu = -1, -1\n",
    "    print '|sigma-sigmah|_0 = %g(%.2f), |u-uh|_1 = %g(%.2f)' % (es, rates, eu, rateu)\n",
    "    \n",
    "    hs.append(h); sigmas.append(es); us.append(eu)"
   ]
  },
  {
   "cell_type": "markdown",
   "metadata": {},
   "source": [
    "Prior to discussing a stable element pair we found a pair of spaces $V$, $Q$ for $\\sigma$, $u$ such that the continuous problem is well-posed. Recall that this was $Q=L^2(\\Omega)$, $V=H^1_0(\\Omega)$. Below we make block-diagonal preconditioner based on Riesz maps. Blocks M, N are based respectively on the maps w.r.t to $L^2$ and $H^1_0$ inner products and algebraic multigrid is used to get the approxima inverses."
   ]
  },
  {
   "cell_type": "code",
   "execution_count": null,
   "metadata": {
    "collapsed": true
   },
   "outputs": [],
   "source": [
    "from block import block_bc, block_assemble, block_mat, block_vec\n",
    "from block.iterative import MinRes\n",
    "from block.algebraic.petsc import AMG, Jacobi\n",
    "\n",
    "\n",
    "def mixed_poisson_block(n, f):\n",
    "    '''\n",
    "    Solve \n",
    "    \n",
    "        div(grad u) = -f in [0, 1]^2\n",
    "                  u = 0  on boundary\n",
    "              \n",
    "    as\n",
    "    \n",
    "        sigma - grad(u) = 0    in [0, 1]^2 \n",
    "        div(sigma)      = -f\n",
    "                      u = 0 on boundary\n",
    "                  \n",
    "    by MinRes preconditioned with Riesz map preconditioner based on \n",
    "    (L2, (sigma, tau)*dx) and (H10, (grad(u), grad(v))*dx).\n",
    "    '''\n",
    "    mesh = UnitSquareMesh(n, n)\n",
    "    \n",
    "    V = VectorElement('Lagrange', mesh.ufl_cell(), 1)\n",
    "    Q = FiniteElement('Lagrange', mesh.ufl_cell(), 2)\n",
    "    W = [FunctionSpace(mesh, X) for X in (V, Q)]\n",
    "    \n",
    "    sigma, u = map(TrialFunction, W)\n",
    "    tau, v = map(TestFunction, W)\n",
    "    \n",
    "    # Block matrix\n",
    "    a00 = inner(sigma, tau)*dx\n",
    "    a01 = -inner(grad(u), tau)*dx\n",
    "    a10 = -inner(grad(v), sigma)*dx\n",
    "    AA = block_assemble([[a00, a01], [a10,   0]])\n",
    "    \n",
    "    # Block vector\n",
    "    L0 = inner(Constant((0, 0)), tau)*dx\n",
    "    L1 = -inner(f, v)*dx\n",
    "    bb = block_assemble([L0, L1])\n",
    "    \n",
    "    # True for symmetry\n",
    "    bcsQ = [DirichletBC(W[1], Constant(0), 'on_boundary')]\n",
    "    bcs = block_bc([[], bcsQ], True)\n",
    "    bcs.apply(AA).apply(bb)\n",
    "    \n",
    "    # Inner products for Riesz map\n",
    "    M = assemble(inner(sigma, tau)*dx)\n",
    "    N, _ = assemble_system(inner(grad(u), grad(v))*dx, L1, bcsQ)\n",
    "    # Now Riesz\n",
    "    M = AMG(M)\n",
    "    N = AMG(N)\n",
    "    BB = block_mat([[M, 0], [0, N]])\n",
    "    \n",
    "    sigmah, uh = map(Function, W)\n",
    "    \n",
    "    # Setup and solve with Krylov\n",
    "    x = block_vec([sigmah.vector(), uh.vector()])\n",
    "    x.randomize()\n",
    "    AAinv = MinRes(AA, precond=BB, tolerance=1e-10, show=2, initial_guess=x)\n",
    "    x = AAinv*bb\n",
    "    \n",
    "    # Turn the coeff vectors to functions\n",
    "    sigmah.vector()[:] = x[0]\n",
    "    uh.vector()[:] = x[1]\n",
    "    \n",
    "    return mesh.hmin(), sigmah, uh, len(AAinv.residuals)-1"
   ]
  },
  {
   "cell_type": "code",
   "execution_count": null,
   "metadata": {
    "collapsed": false
   },
   "outputs": [],
   "source": [
    "# Setup for Mixed Poisson, iterative.\n",
    "# Checking error convergence and boundedness of iteration in h\n",
    "import sympy as sp\n",
    "\n",
    "x, y = sp.symbols('x[0] x[1]')\n",
    "\n",
    "u = x*(1-x)*y*(1-y)*sp.sin(sp.pi*(x+y))\n",
    "f = -(u.diff(x, 2) + u.diff(y, 2))\n",
    "sigma = (u.diff(x, 1), u.diff(y, 1))\n",
    "\n",
    "(u, f, sigma) = map(as_expression, (u, f, sigma))\n",
    "\n",
    "hs, sigmas, us = [], [], []\n",
    "for n in (2, 4, 8, 16, 32, 64, 128):\n",
    "    h, sigmah, uh, niters = mixed_poisson_block(n, f)\n",
    "    es, eu = errornorm(sigma, sigmah, 'L2'), errornorm(u, uh, 'H10')\n",
    "    \n",
    "    if hs:\n",
    "        rates = ln(es/sigmas[-1])/ln(h/hs[-1])\n",
    "        rateu = ln(eu/us[-1])/ln(h/hs[-1])\n",
    "    else:\n",
    "        rates, rateu = -1, -1\n",
    "    print '|sigma-sigmah|_0 = %g(%.2f), |u-uh|_1 = %g(%.2f), niters = %d' % (es, rates, eu, rateu, niters)\n",
    "    \n",
    "    hs.append(h); sigmas.append(es); us.append(eu)"
   ]
  },
  {
   "cell_type": "markdown",
   "metadata": {
    "collapsed": true
   },
   "source": [
    "**Exercise**\n",
    "- Consider the M block and think about the structure/sparsity of the matrix. Can you use a cheaper approximation than AMG, e.g. Jacobi? How expensive is the exact inverse?\n",
    "- Can you base N block on the $H^1$ inner product?\n",
    "- Is (`FiniteElement('Lagrange', triangle, 1)`, `FiniteElement('Lagrange', triangle, 2)`) a _stable_ element?\n",
    "- How do the MinRes iterations behave if this element is used in the original `mixed_poisson_block`?\n",
    "- Keep the $P_2$ element for $Q$ and find an element for $V$ such that the pair is _stable_.\n",
    "\n",
    "_stable_ = you have numerical evidence for it"
   ]
  },
  {
   "cell_type": "markdown",
   "metadata": {},
   "source": [
    "## Coupled multiscale problems\n",
    "### Fractional spaces\n",
    "\n",
    "_One cannot survive without the Laplacian. In mathematics, that is. In life, that depends on your definition of the Laplacian._, J. L. Vazquez, 2007"
   ]
  },
  {
   "cell_type": "markdown",
   "metadata": {},
   "source": [
    "We considered an eigenvalue problem $-u''=\\lambda u$ on $(0, 1)$ with zero Dirichlet boundary conditions concluding that the eigenfunctions $\\phi_k=\\sqrt(2)\\sin k\\pi x$ form an $L^2$ orthonormal basis of the space $L^2(\\Omega)$. For $s\\in\\left[-1, 1\\right]$ we then defined $(-\\Delta)^s$ such that $(-\\Delta)^s u$ = $\\sum_k \\lambda_k^s c_k \\phi_k$ where $u=c_k \\phi_k$ and $\\lambda_k=(k\\pi)^2$ are the eigenvalues of the Laplacian. Finally we defined the space $H^s$ and related the property $u\\in H^s$ to decay rates of the Fourier coefficients."
   ]
  },
  {
   "cell_type": "markdown",
   "metadata": {},
   "source": [
    "Consider et $u = \\begin{cases}\n",
    "2x & 0 \\leq x \\leq 1/2 \\\\\n",
    "2x-2 & 1/2 < x \\leq 1\n",
    "\\end{cases}$. This is not a H^1_0((0, 1)) functions. Let's about its power spectrum."
   ]
  },
  {
   "cell_type": "code",
   "execution_count": null,
   "metadata": {
    "collapsed": false
   },
   "outputs": [],
   "source": [
    "import matplotlib.pyplot as plt\n",
    "%matplotlib inline\n",
    "import numpy as np\n",
    "\n",
    "x = np.linspace(0, 1, 1000)\n",
    "f = np.zeros_like(x)\n",
    "\n",
    "A = sqrt(2)\n",
    "k_max = 10000\n",
    "ks = np.arange(1, k_max+1)\n",
    "spectrum = np.zeros_like(ks, dtype=float)\n",
    "for k in ks:\n",
    "    ck = -2*A*cos(k*pi/2)/(k*pi)\n",
    "\n",
    "    spectrum[k-1] = abs(ck)\n",
    "    f += ck*A*np.sin(k*pi*x)\n",
    "\n",
    "mask = np.where(spectrum > 1E-13)[0]\n",
    "plt.loglog(ks[mask], spectrum[mask], 'o', linestyle='none')\n",
    "plt.loglog(ks, 1./ks**2)"
   ]
  },
  {
   "cell_type": "markdown",
   "metadata": {},
   "source": [
    "**Exercise**\n",
    "- Let $u = \\lvert 1/2-x \\rvert$. Is this a $H^1_0((0, 1))$ function? What is the decay rate of its Fourier coefficients?"
   ]
  },
  {
   "cell_type": "markdown",
   "metadata": {},
   "source": [
    "### Discrete fractional norms\n",
    "\n",
    "We shall define the discrete approximation of $H^s$ norm by mirroring the continuous definition, i.e. the norms will be based (generalized) eigenvalue problem stemming from an eigenvalue problem $-u''=\\lambda u$ on $(0, 1)$ with zero Dirichlet boundary conditions. "
   ]
  },
  {
   "cell_type": "code",
   "execution_count": null,
   "metadata": {
    "collapsed": false
   },
   "outputs": [],
   "source": [
    "from scipy.linalg import eigh\n",
    "\n",
    "\n",
    "def hs_norm(mesh, s, f):\n",
    "    '''\n",
    "    H^s norm on ((0, 1)) based on Laplace eigenvalue problem on the\n",
    "    domain with zero Dirichlet bcs.\n",
    "    '''\n",
    "    assert mesh.geometry().dim() == 1\n",
    "    assert mesh.num_vertices() < 5000\n",
    "    \n",
    "    V = FunctionSpace(mesh, 'CG', 1)\n",
    "    bc = DirichletBC(V, Constant(0), 'on_boundary')\n",
    "    u = TrialFunction(V)\n",
    "    v = TestFunction(V)\n",
    "    \n",
    "    f_vec = interpolate(f, V).vector().array()\n",
    "    # Setup generalized eigenvalue problem for discrete norm\n",
    "    a = inner(grad(u), grad(v))*dx\n",
    "    m = inner(u, v)*dx\n",
    "    L = inner(f, v)*dx\n",
    "    \n",
    "    A, _ = assemble_system(a, L, bc)\n",
    "    M, _ = assemble_system(m, L, bc)\n",
    "    A, M = A.array(), M.array()\n",
    "\n",
    "    lmbda, U = eigh(A, M)\n",
    "    V = M.dot(U)\n",
    "    Lambda = np.diag(lmbda**s)\n",
    "    \n",
    "    # Matrix representation of the norm\n",
    "    H = V.dot(Lambda.dot(V.T))\n",
    "    \n",
    "    return sqrt(np.sum(f_vec*H.dot(f_vec)))"
   ]
  },
  {
   "cell_type": "markdown",
   "metadata": {},
   "source": [
    "Let's verify that our new defintion works for $H^1_0$ and $L^2$ norms."
   ]
  },
  {
   "cell_type": "code",
   "execution_count": null,
   "metadata": {
    "collapsed": false
   },
   "outputs": [],
   "source": [
    "for i in range(3, 11):\n",
    "    mesh = UnitIntervalMesh(2**i)\n",
    "    dX = Measure('dx', domain=mesh)\n",
    "    \n",
    "    V = FunctionSpace(mesh, 'CG', 2)\n",
    "    f = interpolate(Expression('x[0]*(1-x[0])', degree=2), V)\n",
    "    \n",
    "    L2 = sqrt(assemble(inner(f, f)*dX))\n",
    "    H10 = sqrt(assemble(inner(f.dx(0), f.dx(0))*dX))\n",
    "    \n",
    "    L2_ = hs_norm(mesh, s=0., f=f)\n",
    "    H10_ = hs_norm(mesh, s=1., f=f)\n",
    "    \n",
    "    print abs(L2 - L2_), abs(H10 - H10_)"
   ]
  },
  {
   "cell_type": "markdown",
   "metadata": {},
   "source": [
    "**Exercise**\n",
    "- For a function of you choice compute its _continuous_ $H^{1/2}$ norm. How fast does the _discrete_ norm approximates the number? "
   ]
  },
  {
   "cell_type": "markdown",
   "metadata": {},
   "source": [
    "### Babuska's problem"
   ]
  },
  {
   "cell_type": "code",
   "execution_count": null,
   "metadata": {
    "collapsed": true
   },
   "outputs": [],
   "source": [
    "# PATH to fenics_ii if not there already\n",
    "import sys\n",
    "sys.path.append('/home/miro3/Documents/Programming/fenics_ii/py')\n",
    "\n",
    "\n",
    "from dolfin import *\n",
    "from trace_tools.trace_assembler import trace_assemble\n",
    "from trace_tools.norms import inv_interpolation_norm_eig\n",
    "from trace_tools.embedded_mesh import EmbeddedMesh\n",
    "from block import block_mat, block_vec\n",
    "from block.iterative import MinRes\n",
    "from block.algebraic.petsc import AMG\n",
    "\n",
    "\n",
    "def babuska(n, f, g, gamma):\n",
    "    '''\n",
    "    Minimize 0.5*inner(grad(u), grad(u))*dx+0.5*inner(u, u)*dx-inner(f, v) over \n",
    "    H^1(Omega) with Neumann bcs subject to Tu = g on Gamma.\n",
    "    \n",
    "    Usinf Riesz map peconditioner based on H^1 and H^{-0.5} spaces.\n",
    "    '''\n",
    "    n *= 4\n",
    "    omega_mesh = UnitSquareMesh(n, n)\n",
    "    facet_f = FacetFunction('size_t', omega_mesh, 0)\n",
    "    gamma.mark(facet_f, 1)\n",
    "\n",
    "    gamma_mesh = EmbeddedMesh(omega_mesh, facet_f, 1)\n",
    "\n",
    "    # Space of u and the Lagrange multiplier\n",
    "    V = FunctionSpace(omega_mesh, 'CG', 1)\n",
    "    Q = FunctionSpace(gamma_mesh.mesh, 'CG', 1)\n",
    "\n",
    "    u, p = TrialFunction(V), TrialFunction(Q)\n",
    "    v, q = TestFunction(V), TestFunction(Q)\n",
    "\n",
    "    dxGamma = Measure('dx', domain=gamma_mesh.mesh)\n",
    "\n",
    "    a00 = inner(grad(u), grad(v))*dx + inner(u, v)*dx\n",
    "    a01 = inner(p, v)*dxGamma\n",
    "    a10 = inner(u, q)*dxGamma\n",
    "    L0 = inner(f, v)*dx\n",
    "    L1 = inner(g, q)*dxGamma\n",
    "\n",
    "    # Blocks\n",
    "    A00 = assemble(a00)\n",
    "    A01 = trace_assemble(a01, gamma_mesh)\n",
    "    A10 = trace_assemble(a10, gamma_mesh)\n",
    "    b0 = assemble(L0)\n",
    "    b1 = assemble(L1)\n",
    "    # System\n",
    "    AA = block_mat([[A00, A01], [A10, 0]])\n",
    "    bb = block_vec([b0, b1])\n",
    "\n",
    "    # Preconditioner blocks\n",
    "    P00 = AMG(A00)\n",
    "    # Trace of H^1 is H^{1/2} and the dual is H^{-1/2}\n",
    "    m = inner(p, q)*dxGamma\n",
    "    a = inner(grad(p), grad(q))*dxGamma + m\n",
    "    P11 = inv_interpolation_norm_eig(a, s=-0.5, m=m)\n",
    "    # P11 = 1.\n",
    "    \n",
    "    # The preconditioner\n",
    "    BB = block_mat([[P00, 0], [0, P11]])\n",
    "\n",
    "    AAinv = MinRes(AA, precond=BB, tolerance=1e-10, maxiter=300, show=0)\n",
    "    # Compute solution\n",
    "    U, P = AAinv * bb\n",
    "    uh, ph = Function(V, U), Function(Q, P)\n",
    "    \n",
    "    niters = len(AAinv.residuals) - 1\n",
    "    return (V.dim(), Q.dim(), niters)"
   ]
  },
  {
   "cell_type": "markdown",
   "metadata": {},
   "source": [
    "Let's see the preconditioner in action."
   ]
  },
  {
   "cell_type": "code",
   "execution_count": null,
   "metadata": {
    "collapsed": false
   },
   "outputs": [],
   "source": [
    "gamma = CompiledSubDomain('near(x[0], 0)')\n",
    "\n",
    "f = Expression('sin(pi*(x[0]-x[1]))', degree=3)\n",
    "g = Expression('cos(pi*(x[0]+x[1]))', degree=3)\n",
    "\n",
    "\n",
    "for n in [2, 4, 8, 16, 32]:\n",
    "    print 'dim(V) = %d dim(Q) = %d niters = %d' % babuska(n, f, g, gamma)"
   ]
  },
  {
   "cell_type": "markdown",
   "metadata": {},
   "source": [
    "**Exercise**\n",
    "- Based on characterization of trace as a bounded operator from $H^1(\\Omega)$ to $L^2(\\partial\\Omega)$ you might want to consider the Lagrange multiplier ($p$) in the space $L^2(\\partial\\Omega)$ and base the preconditioner on the $L^2$ inner product. This way you avoid eigenvalue computations. Implement the idea. Do you get a good iterative solver this way?"
   ]
  }
 ],
 "metadata": {
  "kernelspec": {
   "display_name": "Python 2",
   "language": "python",
   "name": "python2"
  },
  "language_info": {
   "codemirror_mode": {
    "name": "ipython",
    "version": 2
   },
   "file_extension": ".py",
   "mimetype": "text/x-python",
   "name": "python",
   "nbconvert_exporter": "python",
   "pygments_lexer": "ipython2",
   "version": "2.7.12"
  }
 },
 "nbformat": 4,
 "nbformat_minor": 1
}
